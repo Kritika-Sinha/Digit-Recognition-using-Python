{
 "cells": [
  {
   "cell_type": "code",
   "execution_count": null,
   "metadata": {
    "collapsed": true
   },
   "outputs": [],
   "source": [
    "Rf = RandomForestClassifier(n_estimators=100, n_jobs=10)"
   ]
  },
  {
   "cell_type": "code",
   "execution_count": 4,
   "metadata": {},
   "outputs": [
    {
     "name": "stdout",
     "output_type": "stream",
     "text": [
      "training data points: 1212\n",
      "validation data points: 135\n",
      "testing data points: 450\n"
     ]
    }
   ],
   "source": [
    "from __future__ import print_function\n",
    "from sklearn.cross_validation import train_test_split\n",
    "from sklearn.neighbors import KNeighborsClassifier\n",
    "from sklearn.metrics import classification_report\n",
    "from sklearn import datasets\n",
    "from skimage import exposure\n",
    "from sklearn.ensemble import RandomForestClassifier\n",
    "import numpy as np\n",
    "import cv2\n",
    " \n",
    "# load the MNIST digits dataset\n",
    "mnist = datasets.load_digits()\n",
    " \n",
    "# take the MNIST data and construct the training and testing split, using 75% of the\n",
    "# data for training and 25% for testing\n",
    "(trainData, testData, trainLabels, testLabels) = train_test_split(np.array(mnist.data),\n",
    "\tmnist.target, test_size=0.25, random_state=42)\n",
    " \n",
    "# now, let's take 10% of the training data and use that for validation\n",
    "(trainData, valData, trainLabels, valLabels) = train_test_split(trainData, trainLabels,\n",
    "\ttest_size=0.1, random_state=84)\n",
    " \n",
    "# show the sizes of each data split\n",
    "print(\"training data points: {}\".format(len(trainLabels)))\n",
    "print(\"validation data points: {}\".format(len(valLabels)))\n",
    "print(\"testing data points: {}\".format(len(testLabels)))"
   ]
  },
  {
   "cell_type": "code",
   "execution_count": 17,
   "metadata": {},
   "outputs": [
    {
     "name": "stdout",
     "output_type": "stream",
     "text": [
      "k=10, accuracy=97.04%\n",
      "k=20, accuracy=99.26%\n",
      "k=30, accuracy=97.78%\n",
      "k=40, accuracy=99.26%\n",
      "k=50, accuracy=99.26%\n",
      "k=60, accuracy=99.26%\n",
      "k=70, accuracy=99.26%\n",
      "k=80, accuracy=99.26%\n",
      "k=90, accuracy=99.26%\n",
      "k=100, accuracy=99.26%\n",
      "k=20 achieved highest accuracy of 99.26% on validation data\n"
     ]
    }
   ],
   "source": [
    "kVals = range(10,100, 10)\n",
    "accuracies = []\n",
    " \n",
    "# loop over various values of `k` for the k-Nearest Neighbor classifier\n",
    "for k in range(10,110, 10):\n",
    "\t# train the k-Nearest Neighbor classifier with the current value of `k`\n",
    "\tRf = RandomForestClassifier(n_estimators=k, n_jobs=10)\n",
    "\tRf.fit(trainData, trainLabels)\n",
    " \n",
    "\t# evaluate the model and update the accuracies list\n",
    "\tscore = Rf.score(valData, valLabels)\n",
    "\tprint(\"k=%d, accuracy=%.2f%%\" % (k, score * 100))\n",
    "\taccuracies.append(score)\n",
    " \n",
    "# find the value of k that has the largest accuracy\n",
    "i = np.argmax(accuracies)\n",
    "print(\"k=%d achieved highest accuracy of %.2f%% on validation data\" % (kVals[i],\n",
    "\taccuracies[i] * 100))"
   ]
  },
  {
   "cell_type": "code",
   "execution_count": 18,
   "metadata": {},
   "outputs": [
    {
     "name": "stdout",
     "output_type": "stream",
     "text": [
      "EVALUATION ON TESTING DATA\n",
      "             precision    recall  f1-score   support\n",
      "\n",
      "          0       1.00      0.98      0.99        43\n",
      "          1       0.97      1.00      0.99        37\n",
      "          2       1.00      1.00      1.00        38\n",
      "          3       1.00      0.93      0.97        46\n",
      "          4       0.98      0.98      0.98        55\n",
      "          5       0.97      0.97      0.97        59\n",
      "          6       0.98      0.98      0.98        45\n",
      "          7       0.95      0.98      0.96        41\n",
      "          8       0.95      0.95      0.95        38\n",
      "          9       0.94      0.98      0.96        48\n",
      "\n",
      "avg / total       0.97      0.97      0.97       450\n",
      "\n"
     ]
    }
   ],
   "source": [
    "Rf = RandomForestClassifier(n_estimators=100, n_jobs=10)\n",
    "Rf.fit(trainData, trainLabels)\n",
    "predictions =Rf.predict(testData)\n",
    " \n",
    "# show a final classification report demonstrating the accuracy of the classifier\n",
    "# for each of the digits\n",
    "print(\"EVALUATION ON TESTING DATA\")\n",
    "print(classification_report(testLabels, predictions))"
   ]
  },
  {
   "cell_type": "code",
   "execution_count": 23,
   "metadata": {},
   "outputs": [
    {
     "name": "stdout",
     "output_type": "stream",
     "text": [
      "the actual data is 5\n",
      "the predicted data is \n",
      "5\n",
      "the actual data is 2\n",
      "the predicted data is \n",
      "2\n",
      "the actual data is 8\n",
      "the predicted data is \n",
      "8\n",
      "the actual data is 1\n",
      "the predicted data is \n",
      "1\n",
      "the actual data is 3\n",
      "the predicted data is \n",
      "3\n"
     ]
    }
   ],
   "source": [
    "image=[]\n",
    "type(image)\n",
    "image = np.zeros(shape=(450,64))\n",
    "image.shape\n",
    "for i in np.random.randint(0, high=len(testLabels), size=(5,)):\n",
    "    image[i] = testData[i]\n",
    "    prediction = Rf.predict(image)[i]\n",
    "    \n",
    "    print(\"the actual data is %d\"%(testLabels[i]))\n",
    "    print(\"the predicted data is \")\n",
    "    print(prediction)"
   ]
  },
  {
   "cell_type": "code",
   "execution_count": null,
   "metadata": {
    "collapsed": true
   },
   "outputs": [],
   "source": []
  }
 ],
 "metadata": {
  "kernelspec": {
   "display_name": "Python 3",
   "language": "python",
   "name": "python3"
  },
  "language_info": {
   "codemirror_mode": {
    "name": "ipython",
    "version": 3
   },
   "file_extension": ".py",
   "mimetype": "text/x-python",
   "name": "python",
   "nbconvert_exporter": "python",
   "pygments_lexer": "ipython3",
   "version": "3.6.3"
  }
 },
 "nbformat": 4,
 "nbformat_minor": 2
}
