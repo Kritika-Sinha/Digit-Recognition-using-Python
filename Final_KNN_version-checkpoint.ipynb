{
 "cells": [
  {
   "cell_type": "code",
   "execution_count": 4,
   "metadata": {},
   "outputs": [
    {
     "name": "stdout",
     "output_type": "stream",
     "text": [
      "Requirement already satisfied: numpy in c:\\users\\kriti\\anaconda3\\lib\\site-packages\n"
     ]
    }
   ],
   "source": [
    "! pip install numpy"
   ]
  },
  {
   "cell_type": "code",
   "execution_count": 5,
   "metadata": {},
   "outputs": [],
   "source": [
    "from __future__ import print_function"
   ]
  },
  {
   "cell_type": "code",
   "execution_count": 7,
   "metadata": {},
   "outputs": [],
   "source": [
    "from sklearn.cross_validation import train_test_split"
   ]
  },
  {
   "cell_type": "code",
   "execution_count": 8,
   "metadata": {},
   "outputs": [],
   "source": [
    "from sklearn.neighbors import KNeighborsClassifier"
   ]
  },
  {
   "cell_type": "code",
   "execution_count": 9,
   "metadata": {},
   "outputs": [],
   "source": [
    "from sklearn.metrics import classification_report"
   ]
  },
  {
   "cell_type": "code",
   "execution_count": 10,
   "metadata": {},
   "outputs": [],
   "source": [
    "from sklearn import datasets"
   ]
  },
  {
   "cell_type": "code",
   "execution_count": 11,
   "metadata": {},
   "outputs": [],
   "source": [
    "from skimage import exposure"
   ]
  },
  {
   "cell_type": "code",
   "execution_count": 12,
   "metadata": {},
   "outputs": [],
   "source": [
    "import numpy as np"
   ]
  },
  {
   "cell_type": "code",
   "execution_count": 29,
   "metadata": {},
   "outputs": [
    {
     "name": "stdout",
     "output_type": "stream",
     "text": [
      "Requirement already satisfied: imutils in c:\\users\\kriti\\anaconda3\\lib\\site-packages\n"
     ]
    }
   ],
   "source": [
    "! pip install imutils"
   ]
  },
  {
   "cell_type": "code",
   "execution_count": 32,
   "metadata": {},
   "outputs": [
    {
     "name": "stdout",
     "output_type": "stream",
     "text": [
      "Collecting opencv-python\n",
      "  Downloading opencv_python-3.4.0.12-cp36-cp36m-win_amd64.whl (33.3MB)\n",
      "Requirement already satisfied: numpy>=1.11.3 in c:\\users\\kriti\\anaconda3\\lib\\site-packages (from opencv-python)\n",
      "Installing collected packages: opencv-python\n",
      "Successfully installed opencv-python-3.4.0.12\n"
     ]
    }
   ],
   "source": [
    "! pip install opencv-python"
   ]
  },
  {
   "cell_type": "code",
   "execution_count": 34,
   "metadata": {},
   "outputs": [],
   "source": [
    "import imutils"
   ]
  },
  {
   "cell_type": "code",
   "execution_count": 36,
   "metadata": {},
   "outputs": [],
   "source": [
    "import cv2"
   ]
  },
  {
   "cell_type": "code",
   "execution_count": 38,
   "metadata": {},
   "outputs": [],
   "source": [
    "mnist = datasets.load_digits()"
   ]
  },
  {
   "cell_type": "code",
   "execution_count": 40,
   "metadata": {},
   "outputs": [],
   "source": [
    "# take the MNIST data and construct the training and testing split, using 75% of the\n",
    "# data for training and 25% for testing\n",
    "(trainData, testData, trainLabels, testLabels) = train_test_split(np.array(mnist.data),\n",
    "\tmnist.target, test_size=0.25, random_state=42)"
   ]
  },
  {
   "cell_type": "code",
   "execution_count": 41,
   "metadata": {},
   "outputs": [],
   "source": [
    "# now, let's take 10% of the training data and use that for validation\n",
    "(trainData, valData, trainLabels, valLabels) = train_test_split(trainData, trainLabels,\n",
    "\ttest_size=0.1, random_state=84)"
   ]
  },
  {
   "cell_type": "code",
   "execution_count": 43,
   "metadata": {},
   "outputs": [
    {
     "name": "stdout",
     "output_type": "stream",
     "text": [
      "training data points: 1212\n",
      "validation data points: 135\n",
      "testing data points: 450\n"
     ]
    }
   ],
   "source": [
    "# show the sizes of each data split\n",
    "print(\"training data points: {}\".format(len(trainLabels)))\n",
    "print(\"validation data points: {}\".format(len(valLabels)))\n",
    "print(\"testing data points: {}\".format(len(testLabels)))"
   ]
  },
  {
   "cell_type": "code",
   "execution_count": 45,
   "metadata": {},
   "outputs": [],
   "source": [
    "# initialize the values of k for our k-Nearest Neighbor classifier along with the\n",
    "# list of accuracies for each value of k\n",
    "kVals = range(1, 30, 2)\n",
    "accuracies = []"
   ]
  },
  {
   "cell_type": "code",
   "execution_count": 47,
   "metadata": {},
   "outputs": [
    {
     "name": "stdout",
     "output_type": "stream",
     "text": [
      "k=1, accuracy=99.26%\n",
      "k=3, accuracy=99.26%\n",
      "k=5, accuracy=99.26%\n",
      "k=7, accuracy=99.26%\n",
      "k=9, accuracy=99.26%\n",
      "k=11, accuracy=99.26%\n",
      "k=13, accuracy=99.26%\n",
      "k=15, accuracy=99.26%\n",
      "k=17, accuracy=98.52%\n",
      "k=19, accuracy=98.52%\n",
      "k=21, accuracy=97.78%\n",
      "k=23, accuracy=97.04%\n",
      "k=25, accuracy=97.78%\n",
      "k=27, accuracy=97.04%\n",
      "k=29, accuracy=97.04%\n"
     ]
    }
   ],
   "source": [
    "# loop over various values of `k` for the k-Nearest Neighbor classifier\n",
    "for k in range(1, 30, 2):\n",
    "\t# train the k-Nearest Neighbor classifier with the current value of `k`\n",
    "\tmodel = KNeighborsClassifier(n_neighbors=k)\n",
    "\tmodel.fit(trainData, trainLabels)\n",
    " \n",
    "\t# evaluate the model and update the accuracies list\n",
    "\tscore = model.score(valData, valLabels)\n",
    "\tprint(\"k=%d, accuracy=%.2f%%\" % (k, score * 100))\n",
    "\taccuracies.append(score)"
   ]
  },
  {
   "cell_type": "code",
   "execution_count": 76,
   "metadata": {},
   "outputs": [
    {
     "name": "stdout",
     "output_type": "stream",
     "text": [
      "k=0 achieved highest accuracy of 99.26% on validation data\n"
     ]
    }
   ],
   "source": [
    "# find the value of k that has the largest accuracy\n",
    "i = np.argmax(accuracies)\n",
    "print(\"k=%d achieved highest accuracy of %.2f%% on validation data\" % (kVals[i],\n",
    "\taccuracies[i] * 100))"
   ]
  },
  {
   "cell_type": "code",
   "execution_count": 51,
   "metadata": {},
   "outputs": [
    {
     "name": "stdout",
     "output_type": "stream",
     "text": [
      "EVALUATION ON TESTING DATA\n",
      "             precision    recall  f1-score   support\n",
      "\n",
      "          0       1.00      1.00      1.00        43\n",
      "          1       0.95      1.00      0.97        37\n",
      "          2       1.00      1.00      1.00        38\n",
      "          3       0.98      0.98      0.98        46\n",
      "          4       0.98      0.98      0.98        55\n",
      "          5       0.98      1.00      0.99        59\n",
      "          6       1.00      1.00      1.00        45\n",
      "          7       1.00      0.98      0.99        41\n",
      "          8       0.97      0.95      0.96        38\n",
      "          9       0.96      0.94      0.95        48\n",
      "\n",
      "avg / total       0.98      0.98      0.98       450\n",
      "\n"
     ]
    }
   ],
   "source": [
    "# re-train our classifier using the best k value and predict the labels of the\n",
    "# test data\n",
    "model = KNeighborsClassifier(n_neighbors=kVals[i])\n",
    "model.fit(trainData, trainLabels)\n",
    "predictions = model.predict(testData)\n",
    " \n",
    "# show a final classification report demonstrating the accuracy of the classifier\n",
    "# for each of the digits\n",
    "print(\"EVALUATION ON TESTING DATA\")\n",
    "print(classification_report(testLabels, predictions))"
   ]
  },
  {
   "cell_type": "code",
   "execution_count": 55,
   "metadata": {},
   "outputs": [],
   "source": [
    "####we see a 98% accuracy on the training data ###1 digit has the lowest accuracy-max time it is miscalssified"
   ]
  },
  {
   "cell_type": "code",
   "execution_count": 80,
   "metadata": {},
   "outputs": [
    {
     "data": {
      "text/plain": [
       "numpy.ndarray"
      ]
     },
     "execution_count": 80,
     "metadata": {},
     "output_type": "execute_result"
    }
   ],
   "source": [
    "type(testData)"
   ]
  },
  {
   "cell_type": "code",
   "execution_count": 92,
   "metadata": {},
   "outputs": [
    {
     "data": {
      "text/plain": [
       "(450, 64)"
      ]
     },
     "execution_count": 92,
     "metadata": {},
     "output_type": "execute_result"
    }
   ],
   "source": [
    "testData.shape"
   ]
  },
  {
   "cell_type": "code",
   "execution_count": 97,
   "metadata": {},
   "outputs": [
    {
     "data": {
      "text/plain": [
       "5.0"
      ]
     },
     "execution_count": 97,
     "metadata": {},
     "output_type": "execute_result"
    }
   ],
   "source": [
    "testData[0][62]"
   ]
  },
  {
   "cell_type": "code",
   "execution_count": 100,
   "metadata": {},
   "outputs": [
    {
     "name": "stdout",
     "output_type": "stream",
     "text": [
      "261\n",
      "234\n",
      "449\n",
      "148\n",
      "112\n"
     ]
    }
   ],
   "source": [
    "for i in np.random.randint(0, high=len(testLabels), size=(5,)):\n",
    "    print(i)"
   ]
  },
  {
   "cell_type": "code",
   "execution_count": 110,
   "metadata": {},
   "outputs": [],
   "source": [
    "image=[]"
   ]
  },
  {
   "cell_type": "code",
   "execution_count": 114,
   "metadata": {},
   "outputs": [
    {
     "name": "stdout",
     "output_type": "stream",
     "text": [
      "0.0\n",
      "0.0\n",
      "4.0\n",
      "15.0\n",
      "4.0\n",
      "0.0\n",
      "0.0\n",
      "0.0\n",
      "0.0\n",
      "0.0\n",
      "3.0\n",
      "16.0\n",
      "9.0\n",
      "0.0\n",
      "0.0\n",
      "0.0\n",
      "0.0\n",
      "0.0\n",
      "2.0\n",
      "16.0\n",
      "11.0\n",
      "0.0\n",
      "0.0\n",
      "0.0\n",
      "0.0\n",
      "0.0\n",
      "0.0\n",
      "16.0\n",
      "13.0\n",
      "0.0\n",
      "0.0\n",
      "0.0\n",
      "0.0\n",
      "0.0\n",
      "2.0\n",
      "16.0\n",
      "16.0\n",
      "2.0\n",
      "0.0\n",
      "0.0\n",
      "0.0\n",
      "0.0\n",
      "0.0\n",
      "5.0\n",
      "15.0\n",
      "10.0\n",
      "0.0\n",
      "0.0\n",
      "0.0\n",
      "0.0\n",
      "4.0\n",
      "12.0\n",
      "14.0\n",
      "16.0\n",
      "13.0\n",
      "13.0\n",
      "0.0\n",
      "0.0\n",
      "2.0\n",
      "13.0\n",
      "16.0\n",
      "16.0\n",
      "15.0\n",
      "0.0\n",
      "0.0\n",
      "6.0\n",
      "15.0\n",
      "16.0\n",
      "16.0\n",
      "3.0\n",
      "0.0\n",
      "0.0\n",
      "0.0\n",
      "14.0\n",
      "16.0\n",
      "6.0\n",
      "6.0\n",
      "1.0\n",
      "0.0\n",
      "0.0\n",
      "3.0\n",
      "14.0\n",
      "5.0\n",
      "0.0\n",
      "0.0\n",
      "0.0\n",
      "0.0\n",
      "0.0\n",
      "11.0\n",
      "15.0\n",
      "8.0\n",
      "4.0\n",
      "0.0\n",
      "0.0\n",
      "0.0\n",
      "0.0\n",
      "1.0\n",
      "10.0\n",
      "12.0\n",
      "16.0\n",
      "8.0\n",
      "0.0\n",
      "0.0\n",
      "0.0\n",
      "0.0\n",
      "0.0\n",
      "0.0\n",
      "5.0\n",
      "16.0\n",
      "0.0\n",
      "0.0\n",
      "0.0\n",
      "0.0\n",
      "0.0\n",
      "5.0\n",
      "13.0\n",
      "14.0\n",
      "0.0\n",
      "0.0\n",
      "0.0\n",
      "0.0\n",
      "4.0\n",
      "16.0\n",
      "14.0\n",
      "3.0\n",
      "0.0\n",
      "0.0\n",
      "0.0\n",
      "7.0\n",
      "14.0\n",
      "16.0\n",
      "13.0\n",
      "1.0\n",
      "0.0\n",
      "0.0\n",
      "9.0\n",
      "15.0\n",
      "8.0\n",
      "10.0\n",
      "16.0\n",
      "7.0\n",
      "0.0\n",
      "0.0\n",
      "5.0\n",
      "1.0\n",
      "0.0\n",
      "14.0\n",
      "14.0\n",
      "1.0\n",
      "0.0\n",
      "0.0\n",
      "0.0\n",
      "0.0\n",
      "4.0\n",
      "16.0\n",
      "12.0\n",
      "0.0\n",
      "0.0\n",
      "0.0\n",
      "0.0\n",
      "0.0\n",
      "2.0\n",
      "16.0\n",
      "13.0\n",
      "0.0\n",
      "0.0\n",
      "0.0\n",
      "0.0\n",
      "0.0\n",
      "0.0\n",
      "6.0\n",
      "16.0\n",
      "7.0\n",
      "0.0\n",
      "0.0\n",
      "0.0\n",
      "9.0\n",
      "7.0\n",
      "6.0\n",
      "16.0\n",
      "9.0\n",
      "0.0\n",
      "0.0\n",
      "0.0\n",
      "5.0\n",
      "15.0\n",
      "16.0\n",
      "11.0\n",
      "3.0\n",
      "0.0\n",
      "0.0\n",
      "10.0\n",
      "16.0\n",
      "15.0\n",
      "7.0\n",
      "0.0\n",
      "0.0\n",
      "0.0\n",
      "6.0\n",
      "16.0\n",
      "6.0\n",
      "10.0\n",
      "16.0\n",
      "2.0\n",
      "0.0\n",
      "0.0\n",
      "8.0\n",
      "6.0\n",
      "5.0\n",
      "15.0\n",
      "12.0\n",
      "0.0\n",
      "0.0\n",
      "0.0\n",
      "0.0\n",
      "0.0\n",
      "13.0\n",
      "16.0\n",
      "2.0\n",
      "0.0\n",
      "0.0\n",
      "0.0\n",
      "0.0\n",
      "0.0\n",
      "5.0\n",
      "16.0\n",
      "4.0\n",
      "0.0\n",
      "0.0\n",
      "0.0\n",
      "0.0\n",
      "0.0\n",
      "0.0\n",
      "10.0\n",
      "16.0\n",
      "0.0\n",
      "0.0\n",
      "0.0\n",
      "0.0\n",
      "0.0\n",
      "1.0\n",
      "11.0\n",
      "16.0\n",
      "1.0\n",
      "0.0\n",
      "0.0\n",
      "0.0\n",
      "11.0\n",
      "16.0\n",
      "16.0\n",
      "8.0\n",
      "1.0\n",
      "0.0\n",
      "2.0\n",
      "11.0\n",
      "16.0\n",
      "16.0\n",
      "8.0\n",
      "1.0\n",
      "0.0\n",
      "0.0\n",
      "2.0\n",
      "12.0\n",
      "9.0\n",
      "9.0\n",
      "16.0\n",
      "10.0\n",
      "0.0\n",
      "0.0\n",
      "0.0\n",
      "0.0\n",
      "0.0\n",
      "4.0\n",
      "16.0\n",
      "9.0\n",
      "0.0\n",
      "0.0\n",
      "0.0\n",
      "0.0\n",
      "2.0\n",
      "15.0\n",
      "16.0\n",
      "0.0\n",
      "0.0\n",
      "0.0\n",
      "0.0\n",
      "0.0\n",
      "3.0\n",
      "16.0\n",
      "14.0\n",
      "0.0\n",
      "0.0\n",
      "0.0\n",
      "0.0\n",
      "0.0\n",
      "0.0\n",
      "13.0\n",
      "16.0\n",
      "3.0\n",
      "0.0\n",
      "0.0\n",
      "0.0\n",
      "4.0\n",
      "11.0\n",
      "16.0\n",
      "8.0\n",
      "0.0\n",
      "0.0\n",
      "0.0\n",
      "3.0\n",
      "15.0\n",
      "12.0\n",
      "4.0\n",
      "0.0\n",
      "0.0\n"
     ]
    }
   ],
   "source": [
    "for i in np.random.randint(0, high=len(testLabels), size=(5,)):\n",
    "    for j in range(0,63,1):\n",
    "        print(testData[i][j])"
   ]
  },
  {
   "cell_type": "code",
   "execution_count": null,
   "metadata": {},
   "outputs": [],
   "source": []
  },
  {
   "cell_type": "code",
   "execution_count": 122,
   "metadata": {},
   "outputs": [
    {
     "name": "stdout",
     "output_type": "stream",
     "text": [
      "[ 0.  0.  3. 15.  1.  0.  0.  0.  0.  0. 12.  8.  0.  0.  0.  0.  0.  3.\n",
      " 13.  0.  0.  0.  0.  0.  0.  4. 12.  0.  0.  0.  0.  0.  0.  5. 10. 11.\n",
      " 16. 14.  1.  0.  0.  2. 16. 10.  4.  7. 10.  0.  0.  0. 15.  8.  2. 12.\n",
      "  8.  0.  0.  0.  3. 12. 16.  8.  0.  0.]\n",
      "[ 0.  0. 16.  8.  0.  0.  0.  0.  0.  2. 16. 13.  0.  0.  0.  0.  0.  2.\n",
      " 16. 16.  6.  0.  0.  0.  0.  0.  8. 16. 10.  0.  0.  0.  0.  0.  0. 14.\n",
      " 12.  0.  0.  0.  0.  0.  0. 10. 16.  2.  0.  0.  0.  0.  5. 12. 16. 11.\n",
      "  8.  3.  0.  0. 12. 16. 16. 16. 16.  9.]\n",
      "[ 0.  0.  9. 16. 15.  3.  0.  0.  0.  7. 15.  7. 16.  7.  0.  0.  0.  2.\n",
      "  2.  0. 16.  2.  0.  0.  0.  0.  0.  6. 15.  0.  0.  0.  0.  0.  0. 13.\n",
      " 10.  0.  0.  0.  0.  0.  3. 16.  3.  3.  5.  0.  0.  0. 11. 14. 10. 16.\n",
      "  6.  0.  0.  0. 11. 16. 13.  5.  0.  0.]\n",
      "[ 0.  2. 15. 13.  1.  0.  0.  0.  0. 13. 12. 14.  7.  0.  0.  0.  0.  8.\n",
      "  6.  6. 13.  0.  0.  0.  0.  0.  0.  5. 15.  0.  0.  0.  0.  0.  0. 11.\n",
      " 10.  0.  0.  0.  0.  0.  2. 16.  5.  0.  0.  0.  0.  0. 11. 16. 13. 14.\n",
      " 12.  0.  0.  3. 16. 14.  8.  8.  7.  0.]\n",
      "[ 0.  1.  8. 13. 15.  5.  0.  0.  0.  8. 14.  7. 16. 14.  0.  0.  0. 10.\n",
      " 12.  1. 10. 16.  2.  0.  0.  2. 12. 14. 15. 16.  4.  0.  0.  0.  0.  4.\n",
      "  4. 15.  8.  0.  0.  0.  0.  0.  0.  9.  9.  0.  0.  0.  9.  7.  1. 10.\n",
      " 12.  0.  0.  0.  6. 13. 16. 15.  6.  0.]\n"
     ]
    }
   ],
   "source": [
    "for i in np.random.randint(0, high=len(testLabels), size=(5,)):\n",
    "\t# grab the image and classify it\n",
    "\tprint(testData[i])"
   ]
  },
  {
   "cell_type": "code",
   "execution_count": 123,
   "metadata": {},
   "outputs": [
    {
     "data": {
      "text/plain": [
       "list"
      ]
     },
     "execution_count": 123,
     "metadata": {},
     "output_type": "execute_result"
    }
   ],
   "source": [
    "image=[]\n",
    "type(image)"
   ]
  },
  {
   "cell_type": "code",
   "execution_count": 173,
   "metadata": {},
   "outputs": [],
   "source": [
    "image = np.zeros(shape=(450,64))"
   ]
  },
  {
   "cell_type": "code",
   "execution_count": 174,
   "metadata": {},
   "outputs": [
    {
     "data": {
      "text/plain": [
       "numpy.ndarray"
      ]
     },
     "execution_count": 174,
     "metadata": {},
     "output_type": "execute_result"
    }
   ],
   "source": [
    "type(image)"
   ]
  },
  {
   "cell_type": "code",
   "execution_count": 175,
   "metadata": {},
   "outputs": [
    {
     "data": {
      "text/plain": [
       "numpy.ndarray"
      ]
     },
     "execution_count": 175,
     "metadata": {},
     "output_type": "execute_result"
    }
   ],
   "source": [
    "type(testData)"
   ]
  },
  {
   "cell_type": "code",
   "execution_count": 176,
   "metadata": {},
   "outputs": [
    {
     "data": {
      "text/plain": [
       "(450, 64)"
      ]
     },
     "execution_count": 176,
     "metadata": {},
     "output_type": "execute_result"
    }
   ],
   "source": [
    "image.shape"
   ]
  },
  {
   "cell_type": "code",
   "execution_count": 177,
   "metadata": {},
   "outputs": [
    {
     "ename": "IndentationError",
     "evalue": "unindent does not match any outer indentation level (<tokenize>, line 4)",
     "output_type": "error",
     "traceback": [
      "\u001b[1;36m  File \u001b[1;32m\"<tokenize>\"\u001b[1;36m, line \u001b[1;32m4\u001b[0m\n\u001b[1;33m    prediction = model.predict(image)[0]\u001b[0m\n\u001b[1;37m    ^\u001b[0m\n\u001b[1;31mIndentationError\u001b[0m\u001b[1;31m:\u001b[0m unindent does not match any outer indentation level\n"
     ]
    }
   ],
   "source": [
    "for i in np.random.randint(0, high=len(testLabels), size=(5,)):\n",
    "\t# grab the image and classify it\n",
    "\timage[i] = testData[i]\n",
    "    prediction = model.predict(image)[0]\n",
    "    "
   ]
  },
  {
   "cell_type": "code",
   "execution_count": 178,
   "metadata": {},
   "outputs": [],
   "source": [
    "for i in np.random.randint(0, high=len(testLabels), size=(5,)):\n",
    "    image[i] = testData[i]\n",
    "    prediction = model.predict(image)[0]\n",
    "    \n",
    "    "
   ]
  },
  {
   "cell_type": "code",
   "execution_count": 179,
   "metadata": {},
   "outputs": [
    {
     "data": {
      "text/plain": [
       "1"
      ]
     },
     "execution_count": 179,
     "metadata": {},
     "output_type": "execute_result"
    }
   ],
   "source": [
    "prediction"
   ]
  },
  {
   "cell_type": "code",
   "execution_count": 180,
   "metadata": {},
   "outputs": [
    {
     "ename": "TabError",
     "evalue": "inconsistent use of tabs and spaces in indentation (<ipython-input-180-3e8c25519ef1>, line 6)",
     "output_type": "error",
     "traceback": [
      "\u001b[1;36m  File \u001b[1;32m\"<ipython-input-180-3e8c25519ef1>\"\u001b[1;36m, line \u001b[1;32m6\u001b[0m\n\u001b[1;33m    image = image.reshape((8, 8)).astype(\"uint8\")\u001b[0m\n\u001b[1;37m                                                 ^\u001b[0m\n\u001b[1;31mTabError\u001b[0m\u001b[1;31m:\u001b[0m inconsistent use of tabs and spaces in indentation\n"
     ]
    }
   ],
   "source": [
    "for i in np.random.randint(0, high=len(testLabels), size=(5,)):\n",
    "    image[i] = testData[i]\n",
    "    prediction = model.predict(image)[0]\n",
    "    # convert the image for a 64-dim array to an 8 x 8 image compatible with OpenCV,\n",
    "\t# then resize it to 32 x 32 pixels so we can see it better\n",
    "\timage = image.reshape((8, 8)).astype(\"uint8\")\n",
    "\timage = exposure.rescale_intensity(image, out_range=(0, 255))\n",
    "\timage = imutils.resize(image, width=32, inter=cv2.INTER_CUBIC)\n",
    " \n",
    "\t# show the prediction\n",
    "\tprint(\"I think that digit is: {}\".format(prediction))\n",
    "\tcv2.imshow(\"Image\", image)\n",
    "\tcv2.waitKey(0)\n",
    "    "
   ]
  },
  {
   "cell_type": "code",
   "execution_count": 199,
   "metadata": {},
   "outputs": [
    {
     "name": "stdout",
     "output_type": "stream",
     "text": [
      "the actual data is 3\n"
     ]
    },
    {
     "ename": "IndexError",
     "evalue": "invalid index to scalar variable.",
     "output_type": "error",
     "traceback": [
      "\u001b[1;31m---------------------------------------------------------------------------\u001b[0m",
      "\u001b[1;31mIndexError\u001b[0m                                Traceback (most recent call last)",
      "\u001b[1;32m<ipython-input-199-a26e8d0319a5>\u001b[0m in \u001b[0;36m<module>\u001b[1;34m()\u001b[0m\n\u001b[0;32m      4\u001b[0m \u001b[1;33m\u001b[0m\u001b[0m\n\u001b[0;32m      5\u001b[0m     \u001b[0mprint\u001b[0m\u001b[1;33m(\u001b[0m\u001b[1;34m\"the actual data is %d\"\u001b[0m\u001b[1;33m%\u001b[0m\u001b[1;33m(\u001b[0m\u001b[0mtestLabels\u001b[0m\u001b[1;33m[\u001b[0m\u001b[0mi\u001b[0m\u001b[1;33m]\u001b[0m\u001b[1;33m)\u001b[0m\u001b[1;33m)\u001b[0m\u001b[1;33m\u001b[0m\u001b[0m\n\u001b[1;32m----> 6\u001b[1;33m     \u001b[0mprint\u001b[0m\u001b[1;33m(\u001b[0m\u001b[1;34m\"the predicted data is %d\"\u001b[0m\u001b[1;33m%\u001b[0m\u001b[1;33m(\u001b[0m\u001b[0mprediction\u001b[0m\u001b[1;33m[\u001b[0m\u001b[0mi\u001b[0m\u001b[1;33m]\u001b[0m\u001b[1;33m)\u001b[0m\u001b[1;33m)\u001b[0m\u001b[1;33m\u001b[0m\u001b[0m\n\u001b[0m",
      "\u001b[1;31mIndexError\u001b[0m: invalid index to scalar variable."
     ]
    }
   ],
   "source": [
    "for i in np.random.randint(0, high=len(testLabels), size=(5,)):\n",
    "    image[i] = testData[i]\n",
    "    prediction = model.predict(image)[i]\n",
    "    \n",
    "    print(\"the actual data is %d\"%(testLabels[i]))\n",
    "    print(\"the predicted data is %d\"%(prediction[i]))"
   ]
  },
  {
   "cell_type": "code",
   "execution_count": 202,
   "metadata": {},
   "outputs": [
    {
     "name": "stdout",
     "output_type": "stream",
     "text": [
      "the actual data is 4\n",
      "the predicted data is \n",
      "4\n",
      "the actual data is 2\n",
      "the predicted data is \n",
      "2\n",
      "the actual data is 0\n",
      "the predicted data is \n",
      "0\n",
      "the actual data is 0\n",
      "the predicted data is \n",
      "0\n",
      "the actual data is 5\n",
      "the predicted data is \n",
      "5\n"
     ]
    }
   ],
   "source": [
    "for i in np.random.randint(0, high=len(testLabels), size=(5,)):\n",
    "    image[i] = testData[i]\n",
    "    prediction = model.predict(image)[i]\n",
    "    \n",
    "    print(\"the actual data is %d\"%(testLabels[i]))\n",
    "    print(\"the predicted data is \")\n",
    "    print(prediction)"
   ]
  },
  {
   "cell_type": "code",
   "execution_count": null,
   "metadata": {},
   "outputs": [],
   "source": []
  }
 ],
 "metadata": {
  "kernelspec": {
   "display_name": "Python 3",
   "language": "python",
   "name": "python3"
  },
  "language_info": {
   "codemirror_mode": {
    "name": "ipython",
    "version": 3
   },
   "file_extension": ".py",
   "mimetype": "text/x-python",
   "name": "python",
   "nbconvert_exporter": "python",
   "pygments_lexer": "ipython3",
   "version": "3.6.4"
  }
 },
 "nbformat": 4,
 "nbformat_minor": 2
}
