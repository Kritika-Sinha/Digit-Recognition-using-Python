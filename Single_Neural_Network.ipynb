{
 "cells": [
  {
   "cell_type": "code",
   "execution_count": 84,
   "metadata": {
    "collapsed": true
   },
   "outputs": [],
   "source": [
    "############################################### Import Packages and Data set ###################################################"
   ]
  },
  {
   "cell_type": "code",
   "execution_count": 134,
   "metadata": {},
   "outputs": [
    {
     "name": "stdout",
     "output_type": "stream",
     "text": [
      "Requirement already satisfied: tensorflow in c:\\users\\jack\\anaconda3\\lib\\site-packages\n",
      "Requirement already satisfied: tensorflow-tensorboard<1.6.0,>=1.5.0 in c:\\users\\jack\\anaconda3\\lib\\site-packages (from tensorflow)\n",
      "Requirement already satisfied: wheel>=0.26 in c:\\users\\jack\\anaconda3\\lib\\site-packages (from tensorflow)\n",
      "Requirement already satisfied: numpy>=1.12.1 in c:\\users\\jack\\anaconda3\\lib\\site-packages (from tensorflow)\n",
      "Requirement already satisfied: protobuf>=3.4.0 in c:\\users\\jack\\anaconda3\\lib\\site-packages (from tensorflow)\n",
      "Requirement already satisfied: absl-py>=0.1.6 in c:\\users\\jack\\anaconda3\\lib\\site-packages (from tensorflow)\n",
      "Requirement already satisfied: six>=1.10.0 in c:\\users\\jack\\anaconda3\\lib\\site-packages (from tensorflow)\n",
      "Requirement already satisfied: bleach==1.5.0 in c:\\users\\jack\\anaconda3\\lib\\site-packages (from tensorflow-tensorboard<1.6.0,>=1.5.0->tensorflow)\n",
      "Requirement already satisfied: markdown>=2.6.8 in c:\\users\\jack\\anaconda3\\lib\\site-packages (from tensorflow-tensorboard<1.6.0,>=1.5.0->tensorflow)\n",
      "Requirement already satisfied: html5lib==0.9999999 in c:\\users\\jack\\anaconda3\\lib\\site-packages (from tensorflow-tensorboard<1.6.0,>=1.5.0->tensorflow)\n",
      "Requirement already satisfied: werkzeug>=0.11.10 in c:\\users\\jack\\anaconda3\\lib\\site-packages (from tensorflow-tensorboard<1.6.0,>=1.5.0->tensorflow)\n",
      "Requirement already satisfied: futures>=3.1.1 in c:\\users\\jack\\anaconda3\\lib\\site-packages (from tensorflow-tensorboard<1.6.0,>=1.5.0->tensorflow)\n",
      "Requirement already satisfied: setuptools in c:\\users\\jack\\anaconda3\\lib\\site-packages (from protobuf>=3.4.0->tensorflow)\n"
     ]
    }
   ],
   "source": [
    "! pip install tensorflow"
   ]
  },
  {
   "cell_type": "code",
   "execution_count": 135,
   "metadata": {
    "collapsed": true
   },
   "outputs": [],
   "source": [
    "import tensorflow as tf"
   ]
  },
  {
   "cell_type": "code",
   "execution_count": 187,
   "metadata": {},
   "outputs": [
    {
     "data": {
      "text/plain": [
       "{'backend': 'tensorflow',\n",
       " 'epsilon': 1e-07,\n",
       " 'floatx': 'float32',\n",
       " 'image_dim_ordering': 'tf'}"
      ]
     },
     "execution_count": 187,
     "metadata": {},
     "output_type": "execute_result"
    }
   ],
   "source": [
    "{\n",
    "    \"image_dim_ordering\": \"tf\", \n",
    "    \"epsilon\": 1e-07, \n",
    "    \"floatx\": \"float32\", \n",
    "    \"backend\": \"tensorflow\"\n",
    "}"
   ]
  },
  {
   "cell_type": "code",
   "execution_count": 188,
   "metadata": {
    "collapsed": true
   },
   "outputs": [],
   "source": [
    "from keras.datasets import mnist"
   ]
  },
  {
   "cell_type": "code",
   "execution_count": 189,
   "metadata": {
    "collapsed": true
   },
   "outputs": [],
   "source": [
    "import matplotlib.pyplot as plt"
   ]
  },
  {
   "cell_type": "code",
   "execution_count": 190,
   "metadata": {
    "collapsed": true
   },
   "outputs": [],
   "source": [
    "# load (downloaded if needed) the MNIST dataset\n",
    "(X_train, y_train), (X_test, y_test) = mnist.load_data()"
   ]
  },
  {
   "cell_type": "code",
   "execution_count": 201,
   "metadata": {},
   "outputs": [
    {
     "data": {
      "text/plain": [
       "array([5, 0, 4, ..., 5, 6, 8], dtype=uint8)"
      ]
     },
     "execution_count": 201,
     "metadata": {},
     "output_type": "execute_result"
    }
   ],
   "source": [
    "y_train"
   ]
  },
  {
   "cell_type": "code",
   "execution_count": 192,
   "metadata": {},
   "outputs": [
    {
     "data": {
      "text/plain": [
       "(60000, 28, 28)"
      ]
     },
     "execution_count": 192,
     "metadata": {},
     "output_type": "execute_result"
    }
   ],
   "source": [
    "X_train.shape"
   ]
  },
  {
   "cell_type": "code",
   "execution_count": 202,
   "metadata": {},
   "outputs": [
    {
     "data": {
      "image/png": "[encoded data removed]",
      "text/plain": [
       "<matplotlib.figure.Figure at 0x1ef199e5240>"
      ]
     },
     "metadata": {},
     "output_type": "display_data"
    }
   ],
   "source": [
    "# plot 4 images as gray scale\n",
    "plt.subplot(221)\n",
    "plt.imshow(X_train[0], cmap=plt.get_cmap('gray'))\n",
    "plt.subplot(222)\n",
    "plt.imshow(X_test[1], cmap=plt.get_cmap('gray'))\n",
    "plt.subplot(223)\n",
    "plt.imshow(X_test[2], cmap=plt.get_cmap('gray'))\n",
    "plt.subplot(224)\n",
    "plt.imshow(X_test[3], cmap=plt.get_cmap('gray'))\n",
    "# show the plot\n",
    "plt.show()"
   ]
  },
  {
   "cell_type": "code",
   "execution_count": 143,
   "metadata": {
    "collapsed": true
   },
   "outputs": [],
   "source": [
    "############################################### Import Packages and Data set ###################################################"
   ]
  },
  {
   "cell_type": "code",
   "execution_count": 276,
   "metadata": {},
   "outputs": [
    {
     "name": "stdout",
     "output_type": "stream",
     "text": [
      "Extracting data\\train-images-idx3-ubyte.gz\n",
      "Extracting data\\train-labels-idx1-ubyte.gz\n",
      "Extracting data\\t10k-images-idx3-ubyte.gz\n",
      "Extracting data\\t10k-labels-idx1-ubyte.gz\n",
      "Tensor(\"Softmax_67:0\", shape=(?, 10), dtype=float32)\n",
      "100\n",
      "(100, 28, 28, 1)\n"
     ]
    },
    {
     "data": {
      "text/plain": [
       "array([0., 0., 0., 0., 0., 0., 1., 0., 0., 0.])"
      ]
     },
     "execution_count": 276,
     "metadata": {},
     "output_type": "execute_result"
    }
   ],
   "source": [
    "import numpy as np\n",
    "import pandas as pd\n",
    "import matplotlib.pyplot as plt\n",
    "from tensorflow.examples.tutorials.mnist import input_data\n",
    "import time\n",
    "from IPython import display\n",
    "import matplotlib.gridspec as gridspec\n",
    "%matplotlib inline\n",
    "\n",
    "# Download images and labels into mnist.test (10K images+labels) and mnist.train (60K images+labels)\n",
    "mnist = input_data.read_data_sets(\"data\", one_hot=True, reshape=False, validation_size=0)\n",
    "\n",
    "X = tf.placeholder(tf.float32, [None, 28, 28, 1])\n",
    "W = tf.Variable(tf.zeros([784, 10]))\n",
    "b = tf.Variable(tf.zeros([10]))\n",
    "init = tf.initialize_all_variables()\n",
    "\n",
    "\n",
    "\n",
    "XX = tf.reshape(X, [-1, 784])\n",
    "\n",
    "# model\n",
    "Y = tf.nn.softmax(tf.matmul(XX, W) + b)\n",
    "print(Y)\n",
    "\n",
    "#Placeholder for correct answers\n",
    "Y_ = tf.placeholder(tf.float32, [None, 10])\n",
    "\n",
    "# Loss Function\n",
    "cross_entropy = -tf.reduce_mean(Y_ * tf.log(Y)) * 1000.0\n",
    "P = tf.argmax(Y,1)\n",
    "A = tf.argmax(Y_,1)\n",
    "# % 0f correct answers found in batch\n",
    "is_correct = tf.equal(tf.argmax(Y,1), tf.argmax(Y_,1))\n",
    "accuracy = tf.reduce_mean(tf.cast(is_correct, tf.float32))\n",
    "train_step = optimizer.minimize(cross_entropy)\n",
    "\n",
    "sess = tf.Session()\n",
    "sess.run(init)\n",
    "\n",
    "py_a = []\n",
    "py_c = []\n",
    "\n",
    "#==============================================Show sample Train Data===========================================================#\n",
    "Train_X, Train_Y = mnist.train.next_batch(100)\n",
    "\n",
    "print(len(Train_X))\n",
    "\n",
    "print(Train_X.shape)\n",
    "\n",
    "Train_Y[1]  #=============== first row of 28X28 matrix"
   ]
  },
  {
   "cell_type": "code",
   "execution_count": 277,
   "metadata": {},
   "outputs": [
    {
     "name": "stdout",
     "output_type": "stream",
     "text": [
      "0.68\n",
      "180.9186\n",
      "[0.0977934  0.10258631 0.04534107 0.10476355 0.1348052  0.07635181\n",
      " 0.08149078 0.09390129 0.1172304  0.14573613]\n",
      "[0. 0. 0. 0. 1. 0. 0. 0. 0. 0.]\n",
      "(100, 10)\n",
      "(100, 10)\n",
      "9\n",
      "4\n",
      "28\n",
      "(28, 28, 1)\n"
     ]
    },
    {
     "data": {
      "image/png": "[encoded data removed]",
      "text/plain": [
       "<matplotlib.figure.Figure at 0x1ef40ffa898>"
      ]
     },
     "metadata": {},
     "output_type": "display_data"
    }
   ],
   "source": [
    "\n",
    "#============================================Run Model and plot accuracy========================================================#\n",
    "#===============================================================================================================================#\n",
    "for  i in range(1):\n",
    "    # Load batch of images and correct answers\n",
    "    batch_X, batch_Y = mnist.train.next_batch(100)\n",
    "    # train\n",
    "    sess.run(train_step, feed_dict = {X: batch_X, Y_: batch_Y})\n",
    "    Z_Y = sess.run(Y, feed_dict = {X: batch_X, Y_: batch_Y})\n",
    "    Z_P_max = sess.run(P, feed_dict = {X: batch_X, Y_: batch_Y})\n",
    "    Z_A_max = sess.run(A, feed_dict = {X: batch_X, Y_: batch_Y})\n",
    "    \n",
    "    #success ? add code to print it\n",
    "    tr_a,tr_c, tr_co = sess.run([accuracy, cross_entropy, is_correct], feed_dict = {X: batch_X, Y_: batch_Y})\n",
    "    py_a.append(tr_a)\n",
    "    py_c.append(tr_c)\n",
    "    #print(py_a)\n",
    "    #print(py_c)\n",
    "    \n",
    "    py_a1 = np.asarray(py_a)\n",
    "    py_c1 = np.asarray(py_c)\n",
    "    \n",
    "    #print(py_a1)\n",
    "    py_a_index = range(0,i+1,1)\n",
    "    py_a_col = ['Accuracy']\n",
    "    df_a = pd.DataFrame(py_a1, index = py_a_index, columns = py_a_col)\n",
    "    \n",
    "    #print(i)\n",
    "    #print(py_a1)\n",
    "    #print(df_a)\n",
    "    #df_c = pd.DataFrame(py_c1.reshape(-1, len(py_c1)),columns=list('Cross_Entropy'))\n",
    "    \n",
    "    #plt.plot(df_a)\n",
    "    #plt.show()\n",
    "    \n",
    "    \n",
    "    #f = plt.figure(1)\n",
    "    ##\n",
    "    #plt.plot(py_a1)\n",
    "    #display.display(plt.gcf())\n",
    "    #plt.xlabel('Batch Image')\n",
    "    #plt.ylabel('Accuracy')\n",
    "    #plt.title('Change in Accuracy')\n",
    "    #display.clear_output(wait=True)\n",
    "    print(tr_a)\n",
    "    print(tr_c)\n",
    "    #print(tr_co)  \n",
    "    print(Z_Y[0])\n",
    "    print(batch_Y[0])\n",
    "    print(Z_Y.shape)\n",
    "    print(batch_Y.shape)\n",
    "    print(Z_P_max[0])\n",
    "    print(Z_A_max[0])\n",
    "    print(len(batch_X[0]))\n",
    "    print(batch_X[0].shape)\n",
    "        \n",
    "    plt.imshow(batch_X[0].reshape(28,28), cmap=plt.get_cmap('gray'))\n",
    "    plt.show()\n",
    "\n",
    "   \n",
    "    #success on test data ?\n",
    "    test_data = {X:mnist.test.images, Y_:mnist.test.labels}\n",
    "    te_a,te_c, tr_co = sess.run([accuracy, cross_entropy, is_correct], feed_dict = {X:mnist.test.images, Y_:mnist.test.labels})\n",
    "    \n",
    "\n",
    "    "
   ]
  },
  {
   "cell_type": "code",
   "execution_count": 118,
   "metadata": {},
   "outputs": [
    {
     "data": {
      "text/plain": [
       "array([0.68, 0.52, 0.83, 0.76, 0.85, 0.83, 0.83, 0.81, 0.85, 0.86, 0.79,\n",
       "       0.79, 0.85, 0.83, 0.82, 0.9 , 0.9 , 0.87, 0.87, 0.89, 0.91, 0.86,\n",
       "       0.93, 0.9 , 0.86, 0.87, 0.82, 0.91, 0.91, 0.85, 0.89, 0.87, 0.91,\n",
       "       0.87, 0.87, 0.89, 0.9 , 0.87, 0.91, 0.86, 0.89, 0.89, 0.92, 0.82,\n",
       "       0.92, 0.88, 0.93, 0.9 , 0.89, 0.86, 0.86, 0.93, 0.87, 0.89, 0.9 ,\n",
       "       0.9 , 0.88, 0.92, 0.91, 0.92, 0.91, 0.93, 0.91, 0.89, 0.88, 0.88,\n",
       "       0.94, 0.86, 0.88, 0.91, 0.9 , 0.86, 0.89, 0.91, 0.89, 0.92, 0.94,\n",
       "       0.92, 0.9 , 0.9 , 0.87, 0.89, 0.91, 0.91, 0.9 , 0.92, 0.9 , 0.92,\n",
       "       0.89, 0.9 , 0.86, 0.91, 0.92, 0.88, 0.84, 0.94, 0.89, 0.9 , 0.85,\n",
       "       0.97, 0.87], dtype=float32)"
      ]
     },
     "execution_count": 118,
     "metadata": {},
     "output_type": "execute_result"
    }
   ],
   "source": [
    "py_a1"
   ]
  },
  {
   "cell_type": "code",
   "execution_count": 160,
   "metadata": {},
   "outputs": [
    {
     "data": {
      "text/plain": [
       "<tf.Tensor 'Equal_10:0' shape=(?,) dtype=bool>"
      ]
     },
     "execution_count": 160,
     "metadata": {},
     "output_type": "execute_result"
    }
   ],
   "source": [
    "is_correct"
   ]
  },
  {
   "cell_type": "code",
   "execution_count": 120,
   "metadata": {},
   "outputs": [
    {
     "name": "stdout",
     "output_type": "stream",
     "text": [
      "None\n"
     ]
    }
   ],
   "source": [
    "print(sess.run(train_step, feed_dict = {X: batch_X, Y_: batch_Y}))"
   ]
  }
 ],
 "metadata": {
  "kernelspec": {
   "display_name": "Python 3",
   "language": "python",
   "name": "python3"
  },
  "language_info": {
   "codemirror_mode": {
    "name": "ipython",
    "version": 3
   },
   "file_extension": ".py",
   "mimetype": "text/x-python",
   "name": "python",
   "nbconvert_exporter": "python",
   "pygments_lexer": "ipython3",
   "version": "3.6.3"
  }
 },
 "nbformat": 4,
 "nbformat_minor": 2
}
